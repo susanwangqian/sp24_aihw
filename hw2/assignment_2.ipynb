{
 "cells": [
  {
   "cell_type": "markdown",
   "metadata": {},
   "source": [
    "# Artificial Intelligence\n",
    "# 464\n",
    "# Assignment #2\n",
    "\n",
    "## General Directions for this Assignment\n",
    "\n",
    "00. We're using a Jupyter Notebook environment (tutorial available here: https://jupyter-notebook-beginner-guide.readthedocs.io/en/latest/what_is_jupyter.html),\n",
    "01. Read the entire notebook before beginning your work, \n",
    "02. Output format should be exactly as requested, \n",
    "03. Each helper function should be preceeded by documentation (Markdown cell), \n",
    "04. No comments in the code; anything worth mentioning should be included in the documentation,\n",
    "05. Keep functions to 20 lines or less,\n",
    "06. Use descriptive variable names,\n",
    "07. Functions should do only one thing,\n",
    "08. Check submission deadline on Gradescope, \n",
    "09. Rename the file to Last_First_assignment_2, \n",
    "10. Submit your notebook (as .ipynb, not PDF) using Gradescope, and\n",
    "11. Do not submit any other files.\n",
    "\n",
    "## Before You Submit...\n",
    "\n",
    "1. Re-read the general instructions provided above, and\n",
    "2. Hit \"Kernel\"->\"Restart & Run All\"."
   ]
  },
  {
   "cell_type": "markdown",
   "metadata": {},
   "source": [
    "## The World\n",
    "\n",
    "A `List of Lists` is used to represent the world. Cells marked as '⬛' are obstacles in the world and are not traversable."
   ]
  },
  {
   "cell_type": "code",
   "execution_count": 1,
   "metadata": {
    "tags": []
   },
   "outputs": [],
   "source": [
    "world = [\n",
    "['⬜','⬜','⬜','⬜','⬜','⬜','⬜','⬜','⬜','⬜','⬜','⬜','⬜','⬜','⬜','⬜','⬜','⬜','⬜','⬜','⬜'],\n",
    "['⬜','⬜','⬜','⬜','⬜','⬜','⬜','⬜','⬜','⬜','⬜','⬜','⬜','⬜','⬜','⬜','⬜','⬜','⬜','⬜','⬜'],\n",
    "['⬜','⬜','⬜','⬜','⬜','⬜','⬜','⬜','⬜','⬜','⬜','⬜','⬜','⬜','⬜','⬜','⬜','⬜','⬜','⬜','⬜'],\n",
    "['⬜','⬜','⬜','⬜','⬜','⬜','⬜','⬜','⬜','⬜','⬜','⬜','⬜','⬜','⬜','⬜','⬜','⬜','⬜','⬜','⬜'],\n",
    "['⬜','⬜','⬜','⬜','⬜','⬜','⬜','⬜','⬜','⬜','⬜','⬜','⬜','⬜','⬜','⬜','⬜','⬜','⬜','⬜','⬜'],\n",
    "['⬜','⬜','⬜','⬜','⬜','⬜','⬜','⬜','⬜','⬜','⬜','⬜','⬜','⬜','⬜','⬜','⬜','⬜','⬜','⬜','⬜'],\n",
    "['⬜','⬜','⬜','⬜','⬜','⬜','⬜','⬜','⬜','⬜','⬜','⬜','⬜','⬜','⬜','⬜','⬜','⬜','⬜','⬜','⬜'],\n",
    "['⬜','⬜','⬜','⬜','⬜','⬜','⬜','⬜','⬜','⬜','⬜','⬜','⬜','⬜','⬜','⬜','⬜','⬜','⬜','⬜','⬜'],\n",
    "['⬜','⬜','⬜','⬜','⬜','⬜','⬜','⬜','⬜','⬜','⬜','⬜','⬜','⬜','⬜','⬜','⬜','⬜','⬜','⬜','⬜'],\n",
    "['⬜','⬜','⬜','⬜','⬜','⬜','⬜','⬜','⬜','⬛','⬛','⬛','⬜','⬜','⬜','⬜','⬜','⬜','⬜','⬜','⬜'],\n",
    "['⬜','⬜','⬜','⬜','⬜','⬜','⬜','⬜','⬜','⬛','⬛','⬛','⬜','⬜','⬜','⬜','⬜','⬜','⬜','⬜','⬜'],\n",
    "['⬜','⬜','⬜','⬜','⬜','⬜','⬜','⬜','⬜','⬛','⬛','⬛','⬜','⬜','⬜','⬜','⬜','⬜','⬜','⬜','⬜'],\n",
    "['⬜','⬜','⬜','⬜','⬜','⬜','⬜','⬜','⬜','⬜','⬜','⬜','⬜','⬜','⬜','⬜','⬜','⬜','⬜','⬜','⬜'],\n",
    "['⬜','⬜','⬜','⬜','⬜','⬜','⬜','⬜','⬜','⬜','⬜','⬜','⬜','⬜','⬜','⬜','⬜','⬜','⬜','⬜','⬜'],\n",
    "['⬜','⬜','⬜','⬜','⬜','⬜','⬜','⬜','⬜','⬜','⬜','⬜','⬜','⬜','⬜','⬜','⬜','⬜','⬜','⬜','⬜'],\n",
    "['⬜','⬜','⬜','⬜','⬜','⬜','⬜','⬜','⬜','⬜','⬜','⬜','⬜','⬜','⬜','⬜','⬜','⬜','⬜','⬜','⬜'],\n",
    "['⬜','⬜','⬜','⬜','⬜','⬜','⬜','⬜','⬜','⬜','⬜','⬜','⬜','⬜','⬜','⬜','⬜','⬜','⬜','⬜','⬜'],\n",
    "['⬜','⬜','⬜','⬜','⬜','⬜','⬜','⬜','⬜','⬜','⬜','⬜','⬜','⬜','⬜','⬜','⬜','⬜','⬜','⬜','⬜'],\n",
    "['⬜','⬜','⬜','⬜','⬜','⬜','⬜','⬜','⬜','⬜','⬜','⬜','⬜','⬜','⬜','⬜','⬜','⬜','⬜','⬜','⬜'],\n",
    "['⬜','⬜','⬜','⬜','⬜','⬜','⬜','⬜','⬜','⬜','⬜','⬜','⬜','⬜','⬜','⬜','⬜','⬜','⬜','⬜','⬜'],\n",
    "['⬜','⬜','⬜','⬜','⬜','⬜','⬜','⬜','⬜','⬜','⬜','⬜','⬜','⬜','⬜','⬜','⬜','⬜','⬜','⬜','⬜']]"
   ]
  },
  {
   "cell_type": "code",
   "execution_count": 2,
   "metadata": {
    "tags": []
   },
   "outputs": [
    {
     "name": "stdout",
     "output_type": "stream",
     "text": [
      "⬜⬜⬜⬜⬜⬜⬜⬜⬜⬜⬜⬜⬜⬜⬜⬜⬜⬜⬜⬜⬜\n",
      "⬜⬜⬜⬜⬜⬜⬜⬜⬜⬜⬜⬜⬜⬜⬜⬜⬜⬜⬜⬜⬜\n",
      "⬜⬜⬜⬜⬜⬜⬜⬜⬜⬜⬜⬜⬜⬜⬜⬜⬜⬜⬜⬜⬜\n",
      "⬜⬜⬜⬜⬜⬜⬜⬜⬜⬜⬜⬜⬜⬜⬜⬜⬜⬜⬜⬜⬜\n",
      "⬜⬜⬜⬜⬜⬜⬜⬜⬜⬜⬜⬜⬜⬜⬜⬜⬜⬜⬜⬜⬜\n",
      "⬜⬜⬜⬜⬜⬜⬜⬜⬜⬜⬜⬜⬜⬜⬜⬜⬜⬜⬜⬜⬜\n",
      "⬜⬜⬜⬜⬜⬜⬜⬜⬜⬜⬜⬜⬜⬜⬜⬜⬜⬜⬜⬜⬜\n",
      "⬜⬜⬜⬜⬜⬜⬜⬜⬜⬜⬜⬜⬜⬜⬜⬜⬜⬜⬜⬜⬜\n",
      "⬜⬜⬜⬜⬜⬜⬜⬜⬜⬜⬜⬜⬜⬜⬜⬜⬜⬜⬜⬜⬜\n",
      "⬜⬜⬜⬜⬜⬜⬜⬜⬜⬛⬛⬛⬜⬜⬜⬜⬜⬜⬜⬜⬜\n",
      "⬜⬜⬜⬜⬜⬜⬜⬜⬜⬛⬛⬛⬜⬜⬜⬜⬜⬜⬜⬜⬜\n",
      "⬜⬜⬜⬜⬜⬜⬜⬜⬜⬛⬛⬛⬜⬜⬜⬜⬜⬜⬜⬜⬜\n",
      "⬜⬜⬜⬜⬜⬜⬜⬜⬜⬜⬜⬜⬜⬜⬜⬜⬜⬜⬜⬜⬜\n",
      "⬜⬜⬜⬜⬜⬜⬜⬜⬜⬜⬜⬜⬜⬜⬜⬜⬜⬜⬜⬜⬜\n",
      "⬜⬜⬜⬜⬜⬜⬜⬜⬜⬜⬜⬜⬜⬜⬜⬜⬜⬜⬜⬜⬜\n",
      "⬜⬜⬜⬜⬜⬜⬜⬜⬜⬜⬜⬜⬜⬜⬜⬜⬜⬜⬜⬜⬜\n",
      "⬜⬜⬜⬜⬜⬜⬜⬜⬜⬜⬜⬜⬜⬜⬜⬜⬜⬜⬜⬜⬜\n",
      "⬜⬜⬜⬜⬜⬜⬜⬜⬜⬜⬜⬜⬜⬜⬜⬜⬜⬜⬜⬜⬜\n",
      "⬜⬜⬜⬜⬜⬜⬜⬜⬜⬜⬜⬜⬜⬜⬜⬜⬜⬜⬜⬜⬜\n",
      "⬜⬜⬜⬜⬜⬜⬜⬜⬜⬜⬜⬜⬜⬜⬜⬜⬜⬜⬜⬜⬜\n",
      "⬜⬜⬜⬜⬜⬜⬜⬜⬜⬜⬜⬜⬜⬜⬜⬜⬜⬜⬜⬜⬜\n"
     ]
    }
   ],
   "source": [
    "# A nicer view of the world, without commas and brackets\n",
    "for row in world:\n",
    "    print(\"\".join(row))"
   ]
  },
  {
   "cell_type": "markdown",
   "metadata": {},
   "source": [
    "## Robot\n",
    "\n",
    "Our robot '🤖' starts at the bottom left and can either move up, down, left, or right. It needs to get to the '❤️' in the world. Unlike the previous assignment, the robot now knows where the heart is."
   ]
  },
  {
   "cell_type": "code",
   "execution_count": 3,
   "metadata": {
    "tags": []
   },
   "outputs": [],
   "source": [
    "MOVES = [(0,-1), (1,0), (0,1), (-1,0)]"
   ]
  },
  {
   "cell_type": "code",
   "execution_count": 4,
   "metadata": {
    "tags": []
   },
   "outputs": [],
   "source": [
    "good_start = (len(world)-1, 0)"
   ]
  },
  {
   "cell_type": "code",
   "execution_count": 5,
   "metadata": {
    "tags": []
   },
   "outputs": [],
   "source": [
    "goal = (0, len(world)-1)"
   ]
  },
  {
   "cell_type": "markdown",
   "metadata": {},
   "source": [
    "## Bad Robot\n",
    "\n",
    "And unlike the previous assignment, we have a bad robot '👾', too, that starts at the bottom right and can also move either up, down, left, or right. It wants to zap our robot. The zapper range isn't that great, so our robot is considered zapped if it is anywhere in a 3x3 cell centered at the bad robot."
   ]
  },
  {
   "cell_type": "code",
   "execution_count": 6,
   "metadata": {
    "tags": []
   },
   "outputs": [],
   "source": [
    "bad_start = (len(world)-1, len(world)-1)"
   ]
  },
  {
   "cell_type": "code",
   "execution_count": 7,
   "metadata": {
    "tags": []
   },
   "outputs": [],
   "source": [
    "# Update the world with this information\n",
    "world[good_start[0]][good_start[1]] = '🤖'\n",
    "world[goal[0]][goal[1]] = '❤️'\n",
    "world[bad_start[0]][bad_start[1]] = '👾'"
   ]
  },
  {
   "cell_type": "code",
   "execution_count": 8,
   "metadata": {
    "tags": []
   },
   "outputs": [
    {
     "name": "stdout",
     "output_type": "stream",
     "text": [
      "⬜⬜⬜⬜⬜⬜⬜⬜⬜⬜⬜⬜⬜⬜⬜⬜⬜⬜⬜⬜❤️\n",
      "⬜⬜⬜⬜⬜⬜⬜⬜⬜⬜⬜⬜⬜⬜⬜⬜⬜⬜⬜⬜⬜\n",
      "⬜⬜⬜⬜⬜⬜⬜⬜⬜⬜⬜⬜⬜⬜⬜⬜⬜⬜⬜⬜⬜\n",
      "⬜⬜⬜⬜⬜⬜⬜⬜⬜⬜⬜⬜⬜⬜⬜⬜⬜⬜⬜⬜⬜\n",
      "⬜⬜⬜⬜⬜⬜⬜⬜⬜⬜⬜⬜⬜⬜⬜⬜⬜⬜⬜⬜⬜\n",
      "⬜⬜⬜⬜⬜⬜⬜⬜⬜⬜⬜⬜⬜⬜⬜⬜⬜⬜⬜⬜⬜\n",
      "⬜⬜⬜⬜⬜⬜⬜⬜⬜⬜⬜⬜⬜⬜⬜⬜⬜⬜⬜⬜⬜\n",
      "⬜⬜⬜⬜⬜⬜⬜⬜⬜⬜⬜⬜⬜⬜⬜⬜⬜⬜⬜⬜⬜\n",
      "⬜⬜⬜⬜⬜⬜⬜⬜⬜⬜⬜⬜⬜⬜⬜⬜⬜⬜⬜⬜⬜\n",
      "⬜⬜⬜⬜⬜⬜⬜⬜⬜⬛⬛⬛⬜⬜⬜⬜⬜⬜⬜⬜⬜\n",
      "⬜⬜⬜⬜⬜⬜⬜⬜⬜⬛⬛⬛⬜⬜⬜⬜⬜⬜⬜⬜⬜\n",
      "⬜⬜⬜⬜⬜⬜⬜⬜⬜⬛⬛⬛⬜⬜⬜⬜⬜⬜⬜⬜⬜\n",
      "⬜⬜⬜⬜⬜⬜⬜⬜⬜⬜⬜⬜⬜⬜⬜⬜⬜⬜⬜⬜⬜\n",
      "⬜⬜⬜⬜⬜⬜⬜⬜⬜⬜⬜⬜⬜⬜⬜⬜⬜⬜⬜⬜⬜\n",
      "⬜⬜⬜⬜⬜⬜⬜⬜⬜⬜⬜⬜⬜⬜⬜⬜⬜⬜⬜⬜⬜\n",
      "⬜⬜⬜⬜⬜⬜⬜⬜⬜⬜⬜⬜⬜⬜⬜⬜⬜⬜⬜⬜⬜\n",
      "⬜⬜⬜⬜⬜⬜⬜⬜⬜⬜⬜⬜⬜⬜⬜⬜⬜⬜⬜⬜⬜\n",
      "⬜⬜⬜⬜⬜⬜⬜⬜⬜⬜⬜⬜⬜⬜⬜⬜⬜⬜⬜⬜⬜\n",
      "⬜⬜⬜⬜⬜⬜⬜⬜⬜⬜⬜⬜⬜⬜⬜⬜⬜⬜⬜⬜⬜\n",
      "⬜⬜⬜⬜⬜⬜⬜⬜⬜⬜⬜⬜⬜⬜⬜⬜⬜⬜⬜⬜⬜\n",
      "🤖⬜⬜⬜⬜⬜⬜⬜⬜⬜⬜⬜⬜⬜⬜⬜⬜⬜⬜⬜👾\n"
     ]
    }
   ],
   "source": [
    "# A nicer view of the world, without commas and brackets\n",
    "for row in world:\n",
    "    print(\"\".join(row))"
   ]
  },
  {
   "cell_type": "markdown",
   "metadata": {},
   "source": [
    "## Game\n",
    "\n",
    "* We have two players: our original good robot and the new bad robot '👾'\n",
    "* At each turn of the game, a player gets to move in the world\n",
    "* Players only get to move according to `MOVES`\n",
    "* '⬛' are obstacles that neither robot can traverse\n",
    "* Each player knows the other player's current location\n",
    "* '🤖' wants to get to the '❤️' without being zapped\n",
    "* '👾' is trying to zap '🤖'\n",
    "* '🤖' wins if it gets to the '❤️'\n",
    "* '👾' wins if it zaps the good robot\n",
    "* The game is over when either player wins or we've reached 82 plies (40 good robot moves and 40 bad robot moves)"
   ]
  },
  {
   "cell_type": "markdown",
   "metadata": {},
   "source": [
    "## Adversarial Search\n",
    "\n",
    "\n",
    "The MINIMAX pseudocode is as follows:\n",
    "\n",
    "```\n",
    "MINIMAX(state) returns action\n",
    "    return argmax action in Actions MIN-VALUE(RESULT(state,action))\n",
    "    \n",
    "\n",
    "MAX-VALUE(state) returns value\n",
    "if TERMINAL(state) return UTILITY(state)\n",
    "v <- -inf\n",
    "for each action in Actions(state)\n",
    "    v <- MAX(v, MIN-VALUE(RESULT(state, action))\n",
    "return v\n",
    "\n",
    "\n",
    "MIN-VALUE(state) returns value\n",
    "if TERMINAL(state) return UTILITY(state)\n",
    "v <- +inf\n",
    "for each action in Actions(state)\n",
    "    v <- MIN(v, MAX-VALUE(RESULT(state, action))\n",
    "return v\n",
    "```\n",
    "\n",
    "MINIMAX is used to model the opponent as a rational player that will also try it's best to win. When moves are simulated in the tree, that's just what they are, simulations. The actual board only changes once MINIMAX returns an action. You will probably need to maintain a deep copy of the world. Instead of going all the way to terminal nodes, use a depth parameter."
   ]
  },
  {
   "cell_type": "markdown",
   "metadata": {},
   "source": [
    "## Problem #1\n",
    "\n",
    "\n",
    "Implement the game. This includes: players, actions, scores, keeping track of turns, when the game is over, how the world changes, and what strategy each player uses (random moves or MINIMAX). '🤖' will use MINIMAX with a depth of 2 (simulate I move and then my opponent moves -- that's it); '👾' will choose actions at random. '🤖' utility function values getting to the '❤️' and not being zapped. '👾' utility function values zapping '🤖'. When the game is over, print out the world (nicer view) with the following changes:\n",
    "\n",
    "\n",
    "* Replace a '⬜' with '🟥' to indicate the path of '👾', \n",
    "* Replace '⬜' with '🟩' to indicate the path of '🤖', and\n",
    "* '🤖', '👾', '❤️', and '⬛' are not replaced."
   ]
  },
  {
   "cell_type": "code",
   "execution_count": 9,
   "metadata": {},
   "outputs": [],
   "source": [
    "# Your documentation, code, and tests start here.\n",
    "import copy\n",
    "import random"
   ]
  },
  {
   "cell_type": "code",
   "execution_count": 19,
   "metadata": {},
   "outputs": [
    {
     "name": "stdout",
     "output_type": "stream",
     "text": [
      "⬜⬜⬜⬜⬜⬜⬜⬜⬜⬜⬜⬜⬜⬜⬜⬜⬜⬜⬜⬜🟩\n",
      "⬜⬜⬜⬜⬜⬜⬜⬜⬜⬜⬜⬜⬜⬜⬜⬜⬜⬜⬜🟩🟩\n",
      "⬜⬜⬜⬜⬜⬜⬜⬜⬜⬜⬜⬜⬜⬜⬜⬜⬜⬜🟩🟩⬜\n",
      "⬜⬜⬜⬜⬜⬜⬜⬜⬜⬜⬜⬜⬜⬜⬜⬜⬜🟩🟩⬜⬜\n",
      "⬜⬜⬜⬜⬜⬜⬜⬜⬜⬜⬜⬜⬜⬜⬜⬜🟩🟩⬜⬜⬜\n",
      "⬜⬜⬜⬜⬜⬜⬜⬜⬜⬜⬜⬜⬜⬜⬜🟩🟩⬜⬜⬜⬜\n",
      "⬜⬜⬜⬜⬜⬜⬜⬜⬜⬜⬜⬜⬜⬜🟩🟩⬜⬜⬜⬜⬜\n",
      "⬜⬜⬜⬜⬜⬜⬜⬜⬜⬜⬜⬜⬜🟩🟩⬜⬜⬜⬜⬜⬜\n",
      "⬜⬜⬜⬜⬜⬜⬜⬜⬜⬜⬜⬜🟩🟩⬜⬜⬜⬜⬜⬜⬜\n",
      "⬜⬜⬜⬜⬜⬜⬜⬜⬜⬛⬛⬛🟩⬜⬜⬜⬜⬜⬜⬜⬜\n",
      "⬜⬜⬜⬜⬜⬜⬜⬜⬜⬛⬛⬛🟩⬜⬜⬜⬜⬜🟥🟥⬜\n",
      "⬜⬜⬜⬜⬜⬜⬜⬜⬜⬛⬛⬛🟩⬜⬜⬜🟥🟥🟥⬜⬜\n",
      "⬜⬜⬜⬜⬜⬜⬜⬜🟩🟩🟩🟩🟩⬜⬜⬜⬜🟥⬜⬜⬜\n",
      "⬜⬜⬜⬜⬜⬜⬜🟩🟩⬜⬜⬜⬜⬜⬜⬜⬜🟥🟥⬜⬜\n",
      "⬜⬜⬜⬜⬜⬜🟩🟩⬜⬜⬜⬜⬜⬜⬜⬜⬜🟥🟥🟥🟥\n",
      "⬜⬜⬜⬜⬜🟩🟩⬜⬜⬜⬜⬜⬜⬜⬜⬜⬜⬜🟥🟥🟥\n",
      "⬜⬜⬜⬜🟩🟩⬜⬜⬜⬜⬜⬜⬜⬜⬜⬜⬜⬜🟥🟥🟥\n",
      "⬜⬜⬜🟩🟩⬜⬜⬜⬜⬜⬜⬜⬜⬜⬜⬜⬜⬜⬜🟥🟥\n",
      "⬜⬜🟩🟩⬜⬜⬜⬜⬜⬜⬜⬜⬜⬜⬜⬜⬜⬜⬜🟥🟥\n",
      "⬜🟩🟩⬜⬜⬜⬜⬜⬜⬜⬜⬜⬜⬜⬜⬜⬜⬜🟥🟥🟥\n",
      "🤖🟩⬜⬜⬜⬜⬜⬜⬜⬜⬜⬜⬜⬜⬜⬜⬜⬜⬜🟥👾\n"
     ]
    }
   ],
   "source": [
    "import copy\n",
    "import random\n",
    "\n",
    "\n",
    "def make_move(state, move, player):\n",
    "    dx,dy = move\n",
    "    state = list(state)\n",
    "    state[player] = (dx, dy)\n",
    "    return tuple(state)\n",
    "\n",
    "\n",
    "def get_legal_moves(state,player):\n",
    "    x, y = state[player]\n",
    "    moves = []\n",
    "    if y > 0 and world[x][y-1] != '⬛':\n",
    "        moves.append((x, y-1))\n",
    "    if x < len(world[0])-1 and world[x+1][y] != '⬛':\n",
    "        moves.append((x+1, y))\n",
    "    if y < len(world)-1 and world[x][y+1] != '⬛':\n",
    "        moves.append((x, y+1))\n",
    "    if x > 0 and world[x-1][y] != '⬛' :\n",
    "        moves.append((x-1, y))\n",
    "    return moves\n",
    "\n",
    "\n",
    "def is_game_over(state, move_count):\n",
    "    good_pos = state[0]\n",
    "    bad_pos = state[1]\n",
    "    if good_pos == goal:\n",
    "        return True\n",
    "    elif good_pos == bad_pos:\n",
    "        return True\n",
    "    elif abs(good_pos[0]-bad_pos[0]) + abs(good_pos[1]-bad_pos[1]) <= 1:\n",
    "        return True\n",
    "    elif move_count >= 82:\n",
    "        return True\n",
    "    return False\n",
    "\n",
    "\n",
    "def random_move(state,player,world):\n",
    "    move = random.choice(get_legal_moves(state,player))\n",
    "    return move\n",
    "\n",
    "\n",
    "def evaluate_state(state, player):\n",
    "    good_pos = state[0]\n",
    "    bad_pos = state[1]\n",
    "    if player:\n",
    "        distance_to_goal = ((good_pos[0]-goal[0])**2 + (good_pos[1]-goal[1])**2)**0.5\n",
    "        return -distance_to_goal\n",
    "    else:\n",
    "        distance_to_good = ((good_pos[0]-bad_pos[0])**2 + (good_pos[1]-bad_pos[1])**2)**0.5\n",
    "        return distance_to_good\n",
    "\n",
    "    \n",
    "def minival(state, depth, maximizing_player, move_count):\n",
    "    if depth == 0 or is_game_over(state, move_count): \n",
    "        return evaluate_state(state, maximizing_player)\n",
    "    eval_values = []\n",
    "    get_move = get_legal_moves(state, 0 if maximizing_player else 1)\n",
    "    for move in get_move:\n",
    "        new_state = make_move(state, move, 0 if maximizing_player else 1)\n",
    "        eval_values.append(minival(new_state, depth - 1, not maximizing_player, move_count))\n",
    "    return max(eval_values) if maximizing_player else min(eval_values)\n",
    "\n",
    "    \n",
    "def minimax(state, depth, maximizing_player, move_count):\n",
    "    if depth == 0 or is_game_over(state, move_count):\n",
    "        return evaluate_state(state, maximizing_player)\n",
    "    best_move, best_eval = None, float('-inf') if maximizing_player else float('inf')\n",
    "    for move in get_legal_moves(state, 0 if maximizing_player else 1):\n",
    "        new_state = make_move(state, move, 0 if maximizing_player else 1)\n",
    "        eval = minival(new_state, depth - 1, not maximizing_player, move_count)\n",
    "        if (maximizing_player and eval > best_eval) or (not maximizing_player and eval < best_eval):\n",
    "            best_eval, best_move = eval, move\n",
    "    return best_move\n",
    "\n",
    "\n",
    "def run_robot_game_1(world, good_start, bad_start, goal, moves, good_strategy, bad_strategy):\n",
    "    state = [good_start, bad_start]\n",
    "    is_good_player_turn = True\n",
    "    move_count = 0\n",
    "    while state[0] != goal and not (abs(state[0][0]- state[1][0]) <= 1 and abs(state[0][1] - state[1][1]) <= 1):\n",
    "        player = 0 if is_good_player_turn else 1\n",
    "        strategy = good_strategy if is_good_player_turn else bad_strategy\n",
    "        move = minimax(state, 2, is_good_player_turn, move_count) if strategy == \"MINIMAX\" else random_move(state, player, world)\n",
    "        state = make_move(state, move, player)\n",
    "        world[move[0]][move[1]] = '🟩' if is_good_player_turn else '🟥'\n",
    "        is_good_player_turn = not is_good_player_turn\n",
    "        move_count += 1\n",
    "    world[good_start[0]][good_start[1]] = '🤖'\n",
    "    world[bad_start[0]][bad_start[1]] = '👾'\n",
    "    for row in world:\n",
    "        print(\"\".join(row))\n",
    "        \n",
    "new_world = copy.deepcopy(world)\n",
    "run_robot_game_1(new_world, good_start, bad_start, goal, MOVES, good_strategy=\"MINIMAX\", bad_strategy=\"random_strategy\")"
   ]
  },
  {
   "cell_type": "markdown",
   "metadata": {},
   "source": [
    "<a id=\"breadth_first_search\"></a>\n",
    "## run_robot_game\n",
    "\n",
    "Description of your function.\n",
    "\n",
    "* **world** List[List[str]]: the search area\n",
    "* **good_start** Tuple[int, int]: the starting location of the good robot\n",
    "* **bad_start** Tuple[int, int]: the starting location of the bad robot\n",
    "* **goal** Tuple[int, int]: the goal location in the world\n",
    "* **moves** List[Tuple[int, int]]: the allowable moves in the world\n",
    "* **good_strategy** str: name of strategy to use for good robot: either random_strategy or MINIMAX with option to set depth\n",
    "* **bad_strategy** str: name of strategy to use for bad robot: either random_strategy or MINIMAX with option to set depth\n",
    "\n",
    "\n",
    "**returns** None (but prints out a nice view of the world and replaces appropriate cells)."
   ]
  },
  {
   "cell_type": "code",
   "execution_count": 11,
   "metadata": {},
   "outputs": [],
   "source": [
    "# def run_robot_game(world, good_start, bad_start, goal, moves, good_strategy, bad_strategy): # Amend argument list and description above as you see fit\n",
    "#     pass\n",
    "    \n",
    "#     return\n"
   ]
  },
  {
   "cell_type": "code",
   "execution_count": 12,
   "metadata": {
    "tags": []
   },
   "outputs": [],
   "source": [
    "# Modify arguments, but when you uncomment the line below, it should ONLY print out a nice view of the world when the game is over\n",
    "# result_1 = run_robot_game(world, good_start, bad_start, goal, MOVES, good_strategy = MINIMAX of depth 2, bad_strategy = select moves at random)"
   ]
  },
  {
   "cell_type": "markdown",
   "metadata": {},
   "source": [
    "## Problem #2\n",
    "\n",
    "\n",
    "Play a game where '🤖' and '👾' both use MINIMAX with a depth of 2. '🤖' utility function values getting to the '❤️' and not being zapped. '👾' utility function values zapping '🤖'. When the game is over, print out the world (nicer view) with the following changes:\n",
    "\n",
    "\n",
    "* Replace a '⬜' with '🟥' to indicate the path of '👾', \n",
    "* Replace '⬜' with '🟩' to indicate the path found by '🤖', and\n",
    "* '🤖', '👾', '❤️', and '⬛' are not replaced."
   ]
  },
  {
   "cell_type": "code",
   "execution_count": 16,
   "metadata": {},
   "outputs": [
    {
     "name": "stdout",
     "output_type": "stream",
     "text": [
      "⬜⬜⬜⬜⬜⬜⬜⬜⬜⬜⬜⬜⬜⬜⬜⬜⬜⬜⬜⬜❤️\n",
      "⬜⬜⬜⬜⬜⬜⬜⬜⬜⬜⬜⬜⬜⬜⬜⬜⬜⬜⬜⬜⬜\n",
      "⬜⬜⬜⬜⬜⬜⬜⬜⬜⬜⬜⬜⬜⬜⬜⬜⬜⬜⬜⬜⬜\n",
      "⬜⬜⬜⬜⬜⬜⬜⬜⬜⬜⬜⬜⬜⬜⬜⬜⬜⬜⬜⬜⬜\n",
      "⬜⬜⬜⬜⬜⬜⬜⬜⬜⬜⬜⬜⬜⬜⬜⬜⬜⬜⬜⬜⬜\n",
      "⬜⬜⬜⬜⬜⬜⬜⬜⬜⬜⬜⬜⬜⬜⬜⬜⬜⬜⬜⬜⬜\n",
      "⬜⬜⬜⬜⬜⬜⬜⬜⬜⬜⬜⬜⬜⬜⬜⬜⬜⬜⬜⬜⬜\n",
      "⬜⬜⬜⬜⬜⬜⬜⬜⬜⬜⬜⬜⬜⬜⬜⬜⬜⬜⬜⬜⬜\n",
      "⬜⬜⬜⬜⬜⬜⬜⬜⬜⬜⬜⬜⬜⬜⬜⬜⬜⬜⬜⬜⬜\n",
      "⬜⬜⬜⬜⬜⬜⬜⬜⬜⬛⬛⬛⬜⬜⬜⬜⬜⬜⬜⬜⬜\n",
      "⬜⬜⬜⬜⬜⬜⬜⬜⬜⬛⬛⬛⬜⬜⬜⬜⬜⬜⬜⬜⬜\n",
      "⬜⬜⬜⬜⬜⬜⬜⬜⬜⬛⬛⬛⬜⬜⬜⬜⬜⬜⬜⬜⬜\n",
      "⬜⬜⬜⬜⬜⬜⬜⬜🟩🟩⬜⬜⬜⬜⬜⬜⬜⬜⬜⬜⬜\n",
      "⬜⬜⬜⬜⬜⬜⬜🟩🟩🟩⬜⬜⬜⬜⬜⬜⬜⬜⬜⬜⬜\n",
      "⬜⬜⬜⬜⬜⬜🟩🟩⬜🟥🟥⬜⬜⬜⬜⬜⬜⬜⬜⬜⬜\n",
      "⬜⬜⬜⬜⬜🟩🟩⬜⬜⬜🟥⬜⬜⬜⬜⬜⬜⬜⬜⬜⬜\n",
      "⬜⬜⬜⬜🟩🟩⬜⬜⬜⬜🟥⬜⬜⬜⬜⬜⬜⬜⬜⬜⬜\n",
      "⬜⬜⬜🟩🟩⬜⬜⬜⬜⬜🟥⬜⬜⬜⬜⬜⬜⬜⬜⬜⬜\n",
      "⬜⬜🟩🟩⬜⬜⬜⬜⬜⬜🟥⬜⬜⬜⬜⬜⬜⬜⬜⬜⬜\n",
      "⬜🟩🟩⬜⬜⬜⬜⬜⬜⬜🟥⬜⬜⬜⬜⬜⬜⬜⬜⬜⬜\n",
      "🤖🟩⬜⬜⬜⬜⬜⬜⬜⬜🟥🟥🟥🟥🟥🟥🟥🟥🟥🟥👾\n"
     ]
    }
   ],
   "source": [
    "# Modify arguments, but when you uncomment the line below, it should ONLY print out a nice view of the world when the game is over\n",
    "# result_2 = run_robot_game(world, good_start, bad_start, goal, MOVES, good_strategy = MINIMAX of depth 2, bad_strategy = MINIMAX of depth 2\n",
    "new_2 = copy.deepcopy(world)\n",
    "result_2 = run_robot_game_1(new_2, good_start, bad_start, goal, MOVES, good_strategy=\"MINIMAX\", bad_strategy=\"MINIMAX\")"
   ]
  },
  {
   "cell_type": "markdown",
   "metadata": {},
   "source": [
    "## Problem #3\n",
    "\n",
    "\n",
    "Play a game where '🤖' uses MINIMAX with depth 2; '👾' uses MINIMAX with depth 6. '🤖' utility function values getting to the '❤️' and not being zapped. '👾' utility function values zapping '🤖'. When the game is over, print out the world (nicer view) with the following changes:\n",
    "\n",
    "\n",
    "* Replace a '⬜' with '🟥' to indicate the path of '👾', \n",
    "* Replace '⬜' with '🟩' to indicate the path taken by '🤖', and\n",
    "* '🤖', '👾', '❤️', and '⬛' are not replaced."
   ]
  },
  {
   "cell_type": "code",
   "execution_count": 14,
   "metadata": {},
   "outputs": [],
   "source": [
    "# Add your arguments, but when you uncomment the line below, it should ONLY print out a nice view of the world when the game is over\n",
    "\n",
    "# result_3 = run_robot_game(world, good_start, bad_start, goal, MOVES, good_strategy = MINIMAX of depth 2, bad_strategy = MINIMAX of depth 6"
   ]
  },
  {
   "cell_type": "markdown",
   "metadata": {},
   "source": [
    "## Problem #4\n",
    "\n",
    "\n",
    "Play a game where '🤖' and '👾' both use MINIMAX with depth of 2. '🤖' utility function values getting to the '❤️' and not being zapped. '👾' utility function values zapping '🤖' and knowledge that '🤖' is trying to get to '❤️'. When the game is over, print out the world (nicer view) with the following changes:\n",
    "\n",
    "\n",
    "* Replace a '⬜' with '🟥' to indicate the path of '👾', \n",
    "* Replace '⬜' with '🟩' to indicate the path found by '🤖', and\n",
    "* '🤖', '👾', '❤️', and '⬛' are not replaced."
   ]
  },
  {
   "cell_type": "code",
   "execution_count": 15,
   "metadata": {},
   "outputs": [],
   "source": [
    "# Add your arguments, but this should ONLY print out a nice view of the world\n",
    "# result_4 = run_robot_game(world, good_start, bad_start, goal, MOVES, good_strategy = MINIMAX of depth 2, bad_strategy = MINIMAX of depth 2"
   ]
  },
  {
   "cell_type": "markdown",
   "metadata": {},
   "source": [
    "| Question | Comment | \n",
    "|------|------|\n",
    "|Did knowledge of '🤖' trying to get to '❤️' help '👾'? | YOUR BRIEF COMMENTS HERE |"
   ]
  },
  {
   "cell_type": "markdown",
   "metadata": {},
   "source": [
    "## Before You Submit...\n",
    "\n",
    "1. Re-read the general instructions provided above, and\n",
    "2. Hit \"Kernel\"->\"Restart & Run All\"."
   ]
  }
 ],
 "metadata": {
  "kernelspec": {
   "display_name": "Python 3 (ipykernel)",
   "language": "python",
   "name": "python3"
  },
  "language_info": {
   "codemirror_mode": {
    "name": "ipython",
    "version": 3
   },
   "file_extension": ".py",
   "mimetype": "text/x-python",
   "name": "python",
   "nbconvert_exporter": "python",
   "pygments_lexer": "ipython3",
   "version": "3.11.5"
  },
  "toc": {
   "colors": {
    "hover_highlight": "#DAA520",
    "navigate_num": "#000000",
    "navigate_text": "#333333",
    "running_highlight": "#FF0000",
    "selected_highlight": "#FFD700",
    "sidebar_border": "#EEEEEE",
    "wrapper_background": "#FFFFFF"
   },
   "moveMenuLeft": true,
   "nav_menu": {
    "height": "192px",
    "width": "252px"
   },
   "navigate_menu": true,
   "number_sections": true,
   "sideBar": true,
   "threshold": 4,
   "toc_cell": false,
   "toc_section_display": "block",
   "toc_window_display": false,
   "widenNotebook": false
  }
 },
 "nbformat": 4,
 "nbformat_minor": 4
}
